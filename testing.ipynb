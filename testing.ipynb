{
 "cells": [
  {
   "cell_type": "code",
   "execution_count": 1,
   "id": "smoking-milton",
   "metadata": {},
   "outputs": [
    {
     "name": "stdout",
     "output_type": "stream",
     "text": [
      "INFO:tensorflow:Enabling eager execution\n",
      "INFO:tensorflow:Enabling v2 tensorshape\n",
      "INFO:tensorflow:Enabling resource variables\n",
      "INFO:tensorflow:Enabling tensor equality\n",
      "INFO:tensorflow:Enabling control flow v2\n"
     ]
    }
   ],
   "source": [
    "import pandas as pd\n",
    "from tqdm import tqdm\n",
    "import spacy\n",
    "from spacy.tokens import DocBin"
   ]
  },
  {
   "cell_type": "code",
   "execution_count": null,
   "id": "divided-departure",
   "metadata": {},
   "outputs": [],
   "source": [
    "# nlp = spacy.blank(\"en\") # load a new spacy model\n",
    "# db = DocBin() # create a DocBin object\n",
    "\n",
    "# for text, annot in tqdm(TRAIN_DATA): # data in previous format\n",
    "#     doc = nlp.make_doc(text) # create doc object from text\n",
    "#     ents = []\n",
    "#     for start, end, label in annot[\"entities\"]: # add character indexes\n",
    "#         span = doc.char_span(start, end, label=label, alignment_mode=\"contract\")\n",
    "#         if span is None:\n",
    "#             print(\"Skipping entity\")\n",
    "#         else:\n",
    "#             ents.append(span)\n",
    "#     doc.ents = ents # label the text with the ents\n",
    "#     db.add(doc)\n",
    "\n",
    "# db.to_disk(\"./train.spacy\")"
   ]
  },
  {
   "cell_type": "code",
   "execution_count": 2,
   "id": "dirty-wheat",
   "metadata": {},
   "outputs": [],
   "source": [
    "def make_docs(data):\n",
    "    nlp = spacy.blank(\"en\")\n",
    "    db = DocBin()\n",
    "    for doc, label in nlp.pipe(data, as_tuples=True):\n",
    "    \n",
    "        doc.cats[\"war\"] = 0\n",
    "        doc.cats[\"work\"] = 0\n",
    "        doc.cats[\"school\"] = 0\n",
    "        \n",
    "        if label == \"war\":\n",
    "            doc.cats[\"war\"] = 1\n",
    "        elif label == \"work\":\n",
    "            doc.cats[\"work\"] = 1\n",
    "        elif label == \"school\":\n",
    "            doc.cats[\"school\"] = 1\n",
    "\n",
    "        db.add(doc)\n",
    "    return (db)"
   ]
  },
  {
   "cell_type": "code",
   "execution_count": 3,
   "id": "multiple-comment",
   "metadata": {},
   "outputs": [],
   "source": [
    "def create_data(file):\n",
    "    label = file.split(\"model_data/\")[1].split(\"/\")[0]\n",
    "    final = []\n",
    "    with open(file, \"r\", encoding=\"utf-8\") as f:\n",
    "        data = f.read().splitlines()\n",
    "        for line in data:\n",
    "            final.append((line, label))\n",
    "    return (final)"
   ]
  },
  {
   "cell_type": "code",
   "execution_count": null,
   "id": "constitutional-billion",
   "metadata": {},
   "outputs": [],
   "source": []
  },
  {
   "cell_type": "code",
   "execution_count": 6,
   "id": "signed-bunch",
   "metadata": {},
   "outputs": [],
   "source": [
    "training_data = create_data(\"model_data/school/train.txt\")\n",
    "train_docs = make_docs(training_data)\n",
    "train_docs.to_disk(\"./model_data/train.spacy\")\n",
    "\n",
    "\n",
    "\n",
    "validate_data = create_data(\"model_data/school/valid.txt\")\n",
    "valid_docs = make_docs(validate_data)\n",
    "valid_docs.to_disk(\"./model_data/valid.spacy\")"
   ]
  },
  {
   "cell_type": "code",
   "execution_count": 7,
   "id": "interstate-bankruptcy",
   "metadata": {},
   "outputs": [
    {
     "name": "stdout",
     "output_type": "stream",
     "text": [
      "[+] Auto-filled config with all values\n",
      "[+] Saved config\n",
      "config.cfg\n",
      "You can now add your data and train your pipeline:\n",
      "python -m spacy train config.cfg --paths.train ./train.spacy --paths.dev ./dev.spacy\n"
     ]
    },
    {
     "name": "stderr",
     "output_type": "stream",
     "text": [
      "2021-08-03 14:34:53.887214: I tensorflow/stream_executor/platform/default/dso_loader.cc:49] Successfully opened dynamic library cudart64_110.dll\n"
     ]
    }
   ],
   "source": [
    "!python -m spacy init fill-config base_config.cfg config.cfg"
   ]
  },
  {
   "cell_type": "code",
   "execution_count": null,
   "id": "funded-style",
   "metadata": {},
   "outputs": [],
   "source": [
    "!python -m spacy train config.cfg --output ./output"
   ]
  },
  {
   "cell_type": "code",
   "execution_count": null,
   "id": "curious-print",
   "metadata": {},
   "outputs": [],
   "source": []
  }
 ],
 "metadata": {
  "kernelspec": {
   "display_name": "Python 3",
   "language": "python",
   "name": "python3"
  },
  "language_info": {
   "codemirror_mode": {
    "name": "ipython",
    "version": 3
   },
   "file_extension": ".py",
   "mimetype": "text/x-python",
   "name": "python",
   "nbconvert_exporter": "python",
   "pygments_lexer": "ipython3",
   "version": "3.9.2"
  }
 },
 "nbformat": 4,
 "nbformat_minor": 5
}
